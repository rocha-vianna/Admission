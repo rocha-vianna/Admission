{
 "cells": [
  {
   "cell_type": "markdown",
   "id": "6389c488",
   "metadata": {},
   "source": [
    "Importando bibliotecas e pacotes - Importing libraries and packages"
   ]
  },
  {
   "cell_type": "code",
   "execution_count": 1,
   "id": "faa945e4",
   "metadata": {},
   "outputs": [],
   "source": [
    "import matplotlib.pyplot as plt\n",
    "import numpy as np\n",
    "import pandas as pd\n",
    "import seaborn as sn"
   ]
  },
  {
   "cell_type": "markdown",
   "id": "b504c2eb",
   "metadata": {},
   "source": [
    "Importando arquivo e lendo as 5 primeiras linhas"
   ]
  },
  {
   "cell_type": "code",
   "execution_count": 3,
   "id": "a146e754",
   "metadata": {},
   "outputs": [
    {
     "data": {
      "text/html": [
       "<div>\n",
       "<style scoped>\n",
       "    .dataframe tbody tr th:only-of-type {\n",
       "        vertical-align: middle;\n",
       "    }\n",
       "\n",
       "    .dataframe tbody tr th {\n",
       "        vertical-align: top;\n",
       "    }\n",
       "\n",
       "    .dataframe thead th {\n",
       "        text-align: right;\n",
       "    }\n",
       "</style>\n",
       "<table border=\"1\" class=\"dataframe\">\n",
       "  <thead>\n",
       "    <tr style=\"text-align: right;\">\n",
       "      <th></th>\n",
       "      <th>GRE Score</th>\n",
       "      <th>TOEFL Score</th>\n",
       "      <th>University Rating</th>\n",
       "      <th>SOP</th>\n",
       "      <th>LOR</th>\n",
       "      <th>CGPA</th>\n",
       "      <th>Research</th>\n",
       "      <th>Chance of Admit</th>\n",
       "    </tr>\n",
       "    <tr>\n",
       "      <th>Serial No.</th>\n",
       "      <th></th>\n",
       "      <th></th>\n",
       "      <th></th>\n",
       "      <th></th>\n",
       "      <th></th>\n",
       "      <th></th>\n",
       "      <th></th>\n",
       "      <th></th>\n",
       "    </tr>\n",
       "  </thead>\n",
       "  <tbody>\n",
       "    <tr>\n",
       "      <th>1</th>\n",
       "      <td>337</td>\n",
       "      <td>118</td>\n",
       "      <td>4</td>\n",
       "      <td>4.5</td>\n",
       "      <td>4.5</td>\n",
       "      <td>9.65</td>\n",
       "      <td>1</td>\n",
       "      <td>0.92</td>\n",
       "    </tr>\n",
       "    <tr>\n",
       "      <th>2</th>\n",
       "      <td>324</td>\n",
       "      <td>107</td>\n",
       "      <td>4</td>\n",
       "      <td>4.0</td>\n",
       "      <td>4.5</td>\n",
       "      <td>8.87</td>\n",
       "      <td>1</td>\n",
       "      <td>0.76</td>\n",
       "    </tr>\n",
       "    <tr>\n",
       "      <th>3</th>\n",
       "      <td>316</td>\n",
       "      <td>104</td>\n",
       "      <td>3</td>\n",
       "      <td>3.0</td>\n",
       "      <td>3.5</td>\n",
       "      <td>8.00</td>\n",
       "      <td>1</td>\n",
       "      <td>0.72</td>\n",
       "    </tr>\n",
       "    <tr>\n",
       "      <th>4</th>\n",
       "      <td>322</td>\n",
       "      <td>110</td>\n",
       "      <td>3</td>\n",
       "      <td>3.5</td>\n",
       "      <td>2.5</td>\n",
       "      <td>8.67</td>\n",
       "      <td>1</td>\n",
       "      <td>0.80</td>\n",
       "    </tr>\n",
       "    <tr>\n",
       "      <th>5</th>\n",
       "      <td>314</td>\n",
       "      <td>103</td>\n",
       "      <td>2</td>\n",
       "      <td>2.0</td>\n",
       "      <td>3.0</td>\n",
       "      <td>8.21</td>\n",
       "      <td>0</td>\n",
       "      <td>0.65</td>\n",
       "    </tr>\n",
       "  </tbody>\n",
       "</table>\n",
       "</div>"
      ],
      "text/plain": [
       "            GRE Score  TOEFL Score  University Rating  SOP  LOR   CGPA  \\\n",
       "Serial No.                                                               \n",
       "1                 337          118                  4  4.5   4.5  9.65   \n",
       "2                 324          107                  4  4.0   4.5  8.87   \n",
       "3                 316          104                  3  3.0   3.5  8.00   \n",
       "4                 322          110                  3  3.5   2.5  8.67   \n",
       "5                 314          103                  2  2.0   3.0  8.21   \n",
       "\n",
       "            Research  Chance of Admit   \n",
       "Serial No.                              \n",
       "1                  1              0.92  \n",
       "2                  1              0.76  \n",
       "3                  1              0.72  \n",
       "4                  1              0.80  \n",
       "5                  0              0.65  "
      ]
     },
     "execution_count": 3,
     "metadata": {},
     "output_type": "execute_result"
    }
   ],
   "source": [
    "filename = 'adm_data.csv'\n",
    "data = pd.read_csv(filename, index_col='Serial No.')\n",
    "data.head()"
   ]
  },
  {
   "cell_type": "code",
   "execution_count": 4,
   "id": "38cce86a",
   "metadata": {},
   "outputs": [
    {
     "name": "stdout",
     "output_type": "stream",
     "text": [
      "Index(['GRE Score', 'TOEFL Score', 'University Rating', 'SOP', 'LOR ', 'CGPA',\n",
      "       'Research', 'Chance of Admit '],\n",
      "      dtype='object')\n"
     ]
    }
   ],
   "source": [
    "print(data.columns)"
   ]
  },
  {
   "cell_type": "code",
   "execution_count": 5,
   "id": "60feb61d",
   "metadata": {},
   "outputs": [
    {
     "name": "stdout",
     "output_type": "stream",
     "text": [
      "GRE Score            0\n",
      "TOEFL Score          0\n",
      "University Rating    0\n",
      "SOP                  0\n",
      "LOR                  0\n",
      "CGPA                 0\n",
      "Research             0\n",
      "Chance of Admit      0\n",
      "dtype: int64\n"
     ]
    }
   ],
   "source": [
    "print(data.isna().sum())"
   ]
  },
  {
   "cell_type": "code",
   "execution_count": 6,
   "id": "ab7594d4",
   "metadata": {},
   "outputs": [
    {
     "name": "stdout",
     "output_type": "stream",
     "text": [
      "<class 'pandas.core.frame.DataFrame'>\n",
      "Int64Index: 400 entries, 1 to 400\n",
      "Data columns (total 8 columns):\n",
      " #   Column             Non-Null Count  Dtype  \n",
      "---  ------             --------------  -----  \n",
      " 0   GRE Score          400 non-null    int64  \n",
      " 1   TOEFL Score        400 non-null    int64  \n",
      " 2   University Rating  400 non-null    int64  \n",
      " 3   SOP                400 non-null    float64\n",
      " 4   LOR                400 non-null    float64\n",
      " 5   CGPA               400 non-null    float64\n",
      " 6   Research           400 non-null    int64  \n",
      " 7   Chance of Admit    400 non-null    float64\n",
      "dtypes: float64(4), int64(4)\n",
      "memory usage: 28.1 KB\n",
      "None\n"
     ]
    }
   ],
   "source": [
    "print(data.info())"
   ]
  },
  {
   "cell_type": "markdown",
   "id": "652edb25",
   "metadata": {},
   "source": [
    "Coluna utilizada: GRE Score - exame que mede as habilidades consideradas importantes para o sucesso \n",
    "    em programas de pós-graduação: verbal, raciocínio, raciocínio quantitativo, pensamento crítico e redação analítica."
   ]
  },
  {
   "cell_type": "code",
   "execution_count": 39,
   "id": "246aed2a",
   "metadata": {},
   "outputs": [
    {
     "name": "stdout",
     "output_type": "stream",
     "text": [
      "Valores únicos: [290 293 294 295 296 297 298 299 300 301 302 303 304 305 306 307 308 309\n",
      " 310 311 312 313 314 315 316 317 318 319 320 321 322 323 324 325 326 327\n",
      " 328 329 330 331 332 333 334 335 336 337 338 339 340]\n",
      "Quantidade de valores únicos: 49\n",
      "Valor único Mínimo: 290\n",
      "Valor único Máximo: 340\n",
      "Média dos valores únicos: 315.9591836734694\n"
     ]
    }
   ],
   "source": [
    "unique_GRE = np.unique(data['GRE Score'])\n",
    "print(f'Valores únicos: ' + str(unique_GRE))\n",
    "print(f'Quantidade de valores únicos: ' + str(np.count_nonzero(unique_GRE)))\n",
    "print(f'Valor único Mínimo: ' + str(min(unique_GRE)))\n",
    "print(f'Valor único Máximo: ' + str(max(unique_GRE)))\n",
    "print(f'Média dos valores únicos: ' + str(unique_GRE.mean()))"
   ]
  },
  {
   "cell_type": "markdown",
   "id": "e144a17a",
   "metadata": {},
   "source": [
    "Coluna utilizada: TOEFL Score - único teste que mede todas as quatro habilidades acadêmicas em inglês, \n",
    "    como ler, ouvir, falar e escrever, da maneira como elas são realmente usadas em sala de aula, \n",
    "    para que você possa ter certeza de que se destacará para as universidades onde é importante."
   ]
  },
  {
   "cell_type": "code",
   "execution_count": 40,
   "id": "27be61bc",
   "metadata": {},
   "outputs": [
    {
     "name": "stdout",
     "output_type": "stream",
     "text": [
      "Valores únicos: [ 92  93  94  95  96  97  98  99 100 101 102 103 104 105 106 107 108 109\n",
      " 110 111 112 113 114 115 116 117 118 119 120]\n",
      "Quantidade de valores únicos: 29\n",
      "Valor único Mínimo: 92\n",
      "Valor único Máximo: 120\n",
      "Média dos valores únicos: 106.0\n"
     ]
    }
   ],
   "source": [
    "unique_TOEFL = np.unique(data['TOEFL Score'])\n",
    "print(f'Valores únicos: ' + str(unique_TOEFL))\n",
    "print(f'Quantidade de valores únicos: ' + str(np.count_nonzero(unique_TOEFL)))\n",
    "print(f'Valor único Mínimo: ' + str(min(unique_TOEFL)))\n",
    "print(f'Valor único Máximo: ' + str(max(unique_TOEFL)))\n",
    "print(f'Média dos valores únicos: ' + str(unique_TOEFL.mean()))"
   ]
  },
  {
   "cell_type": "markdown",
   "id": "bdd92e09",
   "metadata": {},
   "source": [
    "Coluna utilizada: University Rating - Avaliação da Universidade"
   ]
  },
  {
   "cell_type": "code",
   "execution_count": 55,
   "id": "d13b63b8",
   "metadata": {},
   "outputs": [
    {
     "name": "stdout",
     "output_type": "stream",
     "text": [
      "Valores únicos: [1 2 3 4 5]\n",
      "Quantidade de valores únicos: 5\n",
      "Valor único Mínimo: 1\n",
      "Valor único Máximo: 5\n",
      "Média dos valores únicos: 3.0\n"
     ]
    }
   ],
   "source": [
    "unique_UR = np.unique(data['University Rating'])\n",
    "print(f'Valores únicos: ' + str(unique_UR))\n",
    "print(f'Quantidade de valores únicos: ' + str(np.count_nonzero(unique_UR)))\n",
    "print(f'Valor único Mínimo: ' + str(min(unique_UR)))\n",
    "print(f'Valor único Máximo: ' + str(max(unique_UR)))\n",
    "print(f'Média dos valores únicos: ' + str(unique_UR.mean()))"
   ]
  },
  {
   "cell_type": "markdown",
   "id": "0dec3113",
   "metadata": {},
   "source": [
    "Coluna utilizada: SOP - Statement of Purpose, em inglês, é declaração de pesquisa ou carta de intenção, \n",
    "    é escrita para o painel de admissão e fala sobre sua carreira, interesses, contribuições profissionais, \n",
    "    objetivos e a força motriz por trás de um determinado programa."
   ]
  },
  {
   "cell_type": "code",
   "execution_count": 42,
   "id": "f03d7f27",
   "metadata": {},
   "outputs": [
    {
     "name": "stdout",
     "output_type": "stream",
     "text": [
      "Valores únicos: [1.  1.5 2.  2.5 3.  3.5 4.  4.5 5. ]\n",
      "Quantidade de valores únicos: 9\n",
      "Valor único Mínimo: 1.0\n",
      "Valor único Máximo: 5.0\n",
      "Média dos valores únicos: 3.0\n"
     ]
    }
   ],
   "source": [
    "unique_SOP = np.unique(data['SOP'])\n",
    "print(f'Valores únicos: ' + str(unique_SOP))\n",
    "print(f'Quantidade de valores únicos: ' + str(np.count_nonzero(unique_SOP)))\n",
    "print(f'Valor único Mínimo: ' + str(min(unique_SOP)))\n",
    "print(f'Valor único Máximo: ' + str(max(unique_SOP)))\n",
    "print(f'Média dos valores únicos: ' + str(unique_SOP.mean()))"
   ]
  },
  {
   "cell_type": "markdown",
   "id": "e2fb8d14",
   "metadata": {},
   "source": [
    "Coluna utilizada: LOR - Letter of Recommendation, em inglês, é um formulário de recomendação desenvolvido com o objetivo de economizar um tempo valioso de recomendadores e ex-alunos, fornecendo um conjunto único e comum de perguntas."
   ]
  },
  {
   "cell_type": "markdown",
   "id": "1eee4262",
   "metadata": {},
   "source": [
    "Nota: a coluna 'LOR ' está no CSV com o espaço após as letras, o que me gerou muitos erros até descobrir isso"
   ]
  },
  {
   "cell_type": "code",
   "execution_count": 51,
   "id": "04a6c6fc",
   "metadata": {},
   "outputs": [
    {
     "name": "stdout",
     "output_type": "stream",
     "text": [
      "Valores únicos: [1.  1.5 2.  2.5 3.  3.5 4.  4.5 5. ]\n",
      "Quantidade de valores únicos: 9\n",
      "Valor único Mínimo: 1.0\n",
      "Valor único Máximo: 5.0\n",
      "Média dos valores únicos: 3.0\n"
     ]
    }
   ],
   "source": [
    "unique_LOR = np.unique(data['LOR '])\n",
    "print(f'Valores únicos: ' + str(unique_LOR))\n",
    "print(f'Quantidade de valores únicos: ' + str(np.count_nonzero(unique_LOR)))\n",
    "print(f'Valor único Mínimo: ' + str(min(unique_LOR)))\n",
    "print(f'Valor único Máximo: ' + str(max(unique_LOR)))\n",
    "print(f'Média dos valores únicos: ' + str(unique_LOR.mean()))"
   ]
  },
  {
   "cell_type": "markdown",
   "id": "15d38df1",
   "metadata": {},
   "source": [
    "Coluna utilizada: CGPA - Culmulative Grade Point Average, em inglês, é o seu desempenho acadêmico de 0.00 a 4.00, \n",
    "    calculado como uma média do seu GPA de todos os cursos/semestres concluídos. \n",
    "<br> Porém o autor desse dataset, explicou que se trata de Undergraduate GPA, ou seja, o CGPA desse dataset, corresponde ao Undergraduate GPA que é determinado somando todas as notas obtidas em todos os semestres, dividindo esse número pelo número total de pontos possíveis."
   ]
  },
  {
   "cell_type": "code",
   "execution_count": 56,
   "id": "525239ed",
   "metadata": {},
   "outputs": [
    {
     "name": "stdout",
     "output_type": "stream",
     "text": [
      "Valores únicos: [6.8  7.2  7.25 7.28 7.3  7.34 7.36 7.4  7.43 7.46 7.5  7.54 7.56 7.6\n",
      " 7.64 7.65 7.66 7.67 7.68 7.7  7.8  7.84 7.86 7.87 7.88 7.89 7.9  7.92\n",
      " 7.95 7.96 7.97 7.98 8.   8.01 8.02 8.03 8.04 8.06 8.07 8.09 8.1  8.12\n",
      " 8.13 8.14 8.15 8.16 8.17 8.18 8.2  8.21 8.22 8.23 8.24 8.25 8.26 8.27\n",
      " 8.28 8.3  8.32 8.33 8.34 8.36 8.37 8.4  8.42 8.43 8.44 8.45 8.46 8.47\n",
      " 8.48 8.49 8.5  8.52 8.53 8.54 8.55 8.56 8.57 8.6  8.62 8.64 8.65 8.66\n",
      " 8.67 8.68 8.69 8.7  8.71 8.72 8.73 8.74 8.75 8.76 8.77 8.78 8.79 8.8\n",
      " 8.83 8.84 8.85 8.87 8.88 8.89 8.9  8.92 8.94 8.96 8.97 8.98 9.   9.01\n",
      " 9.02 9.04 9.05 9.06 9.07 9.08 9.1  9.11 9.12 9.13 9.14 9.15 9.16 9.17\n",
      " 9.18 9.19 9.2  9.22 9.23 9.24 9.26 9.28 9.3  9.31 9.32 9.34 9.35 9.36\n",
      " 9.38 9.4  9.42 9.43 9.44 9.45 9.46 9.47 9.48 9.5  9.53 9.54 9.56 9.6\n",
      " 9.62 9.64 9.65 9.66 9.68 9.7  9.74 9.76 9.78 9.8  9.82 9.87 9.91 9.92]\n",
      "Quantidade de valores únicos: 168\n",
      "Valor único Mínimo: 6.8\n",
      "Valor único Máximo: 9.92\n",
      "Média dos valores únicos: 8.630892857142856\n"
     ]
    }
   ],
   "source": [
    "unique_CGPA = np.unique(data['CGPA'])\n",
    "print(f'Valores únicos: ' + str(unique_CGPA))\n",
    "print(f'Quantidade de valores únicos: ' + str(np.count_nonzero(unique_CGPA)))\n",
    "print(f'Valor único Mínimo: ' + str(min(unique_CGPA)))\n",
    "print(f'Valor único Máximo: ' + str(max(unique_CGPA)))\n",
    "print(f'Média dos valores únicos: ' + str(unique_CGPA.mean()))"
   ]
  },
  {
   "cell_type": "markdown",
   "id": "6c4e7170",
   "metadata": {},
   "source": [
    "Coluna utilizada: Research - Research Experience , em inglês, avalia se o(a) candidato(a) possui ou não experiência de pesquisa (Não = 0 / Sim = 1)"
   ]
  },
  {
   "cell_type": "code",
   "execution_count": 54,
   "id": "e17a4da4",
   "metadata": {},
   "outputs": [
    {
     "name": "stdout",
     "output_type": "stream",
     "text": [
      "Valores únicos: [0 1]\n",
      "Quantidade de valores únicos: 1\n",
      "Valor único Mínimo: 0\n",
      "Valor único Máximo: 1\n",
      "Média dos valores únicos: 0.5\n"
     ]
    }
   ],
   "source": [
    "unique_Res = np.unique(data['Research'])\n",
    "print(f'Valores únicos: ' + str(unique_Res))\n",
    "print(f'Quantidade de valores únicos: ' + str(np.count_nonzero(unique_Res)))\n",
    "print(f'Valor único Mínimo: ' + str(min(unique_Res)))\n",
    "print(f'Valor único Máximo: ' + str(max(unique_Res)))\n",
    "print(f'Média dos valores únicos: ' + str(unique_Res.mean()))"
   ]
  },
  {
   "cell_type": "markdown",
   "id": "e304c044",
   "metadata": {},
   "source": [
    "Coluna utilizada: Chance of Admit - Chance de Admissão, que varia de 0.34 a 0.97 nesse dataset"
   ]
  },
  {
   "cell_type": "markdown",
   "id": "990627ce",
   "metadata": {},
   "source": [
    "Nota: a coluna 'Chance of Admit ' está no CSV com o espaço após as letras, assim como o 'LOR ' anteriormente"
   ]
  },
  {
   "cell_type": "code",
   "execution_count": 57,
   "id": "4cb6ba7e",
   "metadata": {},
   "outputs": [
    {
     "name": "stdout",
     "output_type": "stream",
     "text": [
      "Valores únicos: [0.34 0.36 0.38 0.39 0.42 0.43 0.44 0.45 0.46 0.47 0.48 0.49 0.5  0.51\n",
      " 0.52 0.53 0.54 0.55 0.56 0.57 0.58 0.59 0.6  0.61 0.62 0.63 0.64 0.65\n",
      " 0.66 0.67 0.68 0.69 0.7  0.71 0.72 0.73 0.74 0.75 0.76 0.77 0.78 0.79\n",
      " 0.8  0.81 0.82 0.83 0.84 0.85 0.86 0.87 0.88 0.89 0.9  0.91 0.92 0.93\n",
      " 0.94 0.95 0.96 0.97]\n",
      "Quantidade de valores únicos: 60\n",
      "Valor único Mínimo: 0.34\n",
      "Valor único Máximo: 0.97\n",
      "Média dos valores únicos: 0.6731666666666667\n"
     ]
    }
   ],
   "source": [
    "unique_CA = np.unique(data['Chance of Admit '])\n",
    "print(f'Valores únicos: ' + str(unique_CA))\n",
    "print(f'Quantidade de valores únicos: ' + str(np.count_nonzero(unique_CA)))\n",
    "print(f'Valor único Mínimo: ' + str(min(unique_CA)))\n",
    "print(f'Valor único Máximo: ' + str(max(unique_CA)))\n",
    "print(f'Média dos valores únicos: ' + str(unique_CA.mean()))"
   ]
  }
 ],
 "metadata": {
  "kernelspec": {
   "display_name": "Python 3 (ipykernel)",
   "language": "python",
   "name": "python3"
  },
  "language_info": {
   "codemirror_mode": {
    "name": "ipython",
    "version": 3
   },
   "file_extension": ".py",
   "mimetype": "text/x-python",
   "name": "python",
   "nbconvert_exporter": "python",
   "pygments_lexer": "ipython3",
   "version": "3.9.13"
  }
 },
 "nbformat": 4,
 "nbformat_minor": 5
}
